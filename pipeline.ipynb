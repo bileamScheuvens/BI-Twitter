{
 "cells": [
  {
   "cell_type": "markdown",
   "id": "6f8252c8-dd4f-498c-8f1f-fc632d2f54ad",
   "metadata": {
    "tags": []
   },
   "source": [
    "### Imports"
   ]
  },
  {
   "cell_type": "code",
   "execution_count": 1,
   "id": "c208e43c",
   "metadata": {},
   "outputs": [],
   "source": [
    "import json\n",
    "import pandas as pd\n",
    "import numpy as np\n",
    "import os\n",
    "from tqdm import tqdm"
   ]
  },
  {
   "cell_type": "markdown",
   "id": "307dfcb0-1912-4d0f-aa30-3fee784f421c",
   "metadata": {},
   "source": [
    "### Process Politician Accounts / Party Membership"
   ]
  },
  {
   "cell_type": "code",
   "execution_count": 2,
   "id": "53eb8306-f63b-430c-9740-012ab633c9ef",
   "metadata": {},
   "outputs": [],
   "source": [
    "accs = pd.json_normalize(json.load(open(\"followed-accounts.json\")))\n",
    "\n",
    "accs.to_csv(\"accounts.csv\", index=False)\n",
    "\n",
    "# alternatively: accs = pd.read_csv(\"accounts.csv\", converters = {x: pd.eval for x in range(5)})\n",
    "politicians = np.concatenate(accs.values[0])\n",
    "\n",
    "def extract_party(mention_str):\n",
    "    return [acc_dict[mention[\"screen_name\"]] if mention[\"screen_name\"] in acc_dict.keys() else \"Neutral\" for mention in eval(mention_str)]\n",
    "\n",
    "acc_dict = {}\n",
    "\n",
    "for party in accs:\n",
    "    for member in accs[party].values[0]:\n",
    "        acc_dict[member] = party"
   ]
  },
  {
   "cell_type": "markdown",
   "id": "b50fbdc9-68d4-4ef0-8e3d-84c5e133f4e8",
   "metadata": {},
   "source": [
    "### Load Data"
   ]
  },
  {
   "cell_type": "code",
   "execution_count": 3,
   "id": "572b2531-16fd-4257-9741-6d8e7d7073a3",
   "metadata": {},
   "outputs": [
    {
     "name": "stderr",
     "output_type": "stream",
     "text": [
      "100%|██████████████████████████████████████████████████████████████████████████████████| 10/10 [00:08<00:00,  1.14it/s]\n"
     ]
    }
   ],
   "source": [
    "def load_first_n_chunks(n):\n",
    "    return pd.concat([pd.json_normalize(json.load(open(\"chunks/\" + chunk))) for chunk in tqdm(os.listdir(\"chunks\")[0:n])])\n",
    "\n",
    "raw = load_first_n_chunks(10)\n",
    "# drop tweets where content and user identical\n",
    "raw = raw.drop_duplicates(subset=[\"text\", \"user.id\"])\n",
    "# alternatively: raw = pd.read_csv(\"raw_10.csv\")\n",
    "raw.to_csv(\"raw_10.csv\", index=False)"
   ]
  },
  {
   "cell_type": "markdown",
   "id": "9c23fdf1-68f3-4e7d-9cdb-2ddd8bbdad1b",
   "metadata": {},
   "source": [
    "### Generate Condensed Version"
   ]
  },
  {
   "cell_type": "code",
   "execution_count": 5,
   "id": "e2d23733-de5f-4b0a-b556-bc6dc3d7a357",
   "metadata": {
    "tags": []
   },
   "outputs": [],
   "source": [
    "condensed = raw[[\"id\", \"created_at\", \"user.id\", \"user.screen_name\", \"user.followers_count\",\n",
    "     \"text\", \"in_reply_to_status_id\",\n",
    "     \"entities.hashtags\", \"entities.user_mentions\",\n",
    "     \"quoted_status_id\", \"retweeted_status.id\", \"retweet_count\", \"favorite_count\"]]\n",
    "\n",
    "condensed = condensed.assign(is_politician=raw[\"user.screen_name\"].isin(politicians))\n",
    "condensed.loc[condensed['is_politician'] == True, 'author_party'] = 1\n",
    "condensed[\"author_party\"] = condensed[\"user.screen_name\"].apply(lambda x: acc_dict[x] if x in acc_dict.keys() else \"None\")\n",
    "condensed.to_csv(\"condensed_10.csv\", index=False)"
   ]
  },
  {
   "cell_type": "markdown",
   "id": "0e5047e2-c61e-4052-876e-1b117efa59f2",
   "metadata": {},
   "source": [
    "### enrich sentiment CSV for graph interpretation"
   ]
  },
  {
   "cell_type": "code",
   "execution_count": 6,
   "id": "74eef4f5-3f33-418d-b9cb-cadcac7a6366",
   "metadata": {},
   "outputs": [],
   "source": [
    "sent = pd.read_csv(\"sentiment_10.csv\", converters={'Party': pd.eval})\n",
    "\n",
    "sent[\"Party\"] = sent[\"entities.user_mentions\"].apply(extract_party)\n",
    "\n",
    "sent.to_csv(\"sentiment_10.csv\", index=False)\n",
    "\n",
    "sent[\"weight\"] = sent[\"sentiment\"].apply(lambda x: {\"positive\": 1, \"neutral\": 0, \"negative\": -1}[x])\n",
    "\n",
    "user_party = sent.explode(\"Party\").groupby([\"user.id\", \"Party\"],as_index=False)[[\"weight\"]].sum()\n",
    "\n",
    "user_party.to_csv(\"user_party.csv\", index=False)"
   ]
  },
  {
   "cell_type": "code",
   "execution_count": null,
   "id": "7a32c689-7da8-42e3-ba6a-0e62cf6258e1",
   "metadata": {},
   "outputs": [],
   "source": []
  }
 ],
 "metadata": {
  "kernelspec": {
   "display_name": "Python 3 (ipykernel)",
   "language": "python",
   "name": "python3"
  },
  "language_info": {
   "codemirror_mode": {
    "name": "ipython",
    "version": 3
   },
   "file_extension": ".py",
   "mimetype": "text/x-python",
   "name": "python",
   "nbconvert_exporter": "python",
   "pygments_lexer": "ipython3",
   "version": "3.7.11"
  }
 },
 "nbformat": 4,
 "nbformat_minor": 5
}
