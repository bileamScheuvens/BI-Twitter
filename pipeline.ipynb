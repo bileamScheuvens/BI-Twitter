{
 "cells": [
  {
   "cell_type": "markdown",
   "id": "0dc0b86d",
   "metadata": {
    "tags": []
   },
   "source": [
    "### Imports"
   ]
  },
  {
   "cell_type": "code",
   "execution_count": null,
   "id": "8239e059",
   "metadata": {},
   "outputs": [],
   "source": [
    "import json\n",
    "import pandas as pd\n",
    "import numpy as np\n",
    "import os\n",
    "from tqdm import tqdm"
   ]
  },
  {
   "cell_type": "markdown",
   "id": "1963b0c7",
   "metadata": {},
   "source": [
    "### Process Politician Accounts / Party Membership"
   ]
  },
  {
   "cell_type": "code",
   "execution_count": null,
   "id": "3fb909d8",
   "metadata": {},
   "outputs": [],
   "source": [
    "accs = pd.json_normalize(json.load(open(\"followed-accounts.json\")))\n",
    "\n",
    "accs.to_csv(\"accounts.csv\", index=False)\n",
    "\n",
    "# alternatively: accs = pd.read_csv(\"accounts.csv\", converters = {x: pd.eval for x in range(5)})\n",
    "politicians = np.concatenate(accs.values[0])\n",
    "\n",
    "def extract_party(mention_str):\n",
    "    return [acc_dict[mention[\"screen_name\"]] if mention[\"screen_name\"] in acc_dict.keys() else \"Neutral\" for mention in eval(mention_str)]\n",
    "\n",
    "acc_dict = {}\n",
    "\n",
    "for party in accs:\n",
    "    for member in accs[party].values[0]:\n",
    "        acc_dict[member] = party"
   ]
  },
  {
   "cell_type": "markdown",
   "id": "88711b43",
   "metadata": {},
   "source": [
    "### Load Data"
   ]
  },
  {
   "cell_type": "code",
   "execution_count": null,
   "id": "75c6186f",
   "metadata": {},
   "outputs": [],
   "source": [
    "def load_first_n_chunks(n):\n",
    "    return pd.concat([pd.json_normalize(json.load(open(\"chunks/\" + chunk))) for chunk in tqdm(os.listdir(\"chunks\")[0:n])])\n",
    "\n",
    "raw = load_first_n_chunks(10)\n",
    "# drop tweets where content and user identical\n",
    "raw = raw.drop_duplicates(subset=[\"text\", \"user.id\"])\n",
    "# alternatively: raw = pd.read_csv(\"raw_10.csv\")\n",
    "raw.to_csv(\"raw_10.csv\", index=False)"
   ]
  },
  {
   "cell_type": "markdown",
   "id": "f3975b19",
   "metadata": {},
   "source": [
    "### Generate Condensed Version"
   ]
  },
  {
   "cell_type": "code",
   "execution_count": null,
   "id": "54c77bdb",
   "metadata": {
    "tags": []
   },
   "outputs": [],
   "source": [
    "condensed = raw[[\"id\", \"created_at\", \"user.id\", \"user.screen_name\", \"user.followers_count\",\n",
    "     \"text\", \"in_reply_to_status_id\", \"in_reply_to_user_id\",\n",
    "     \"entities.hashtags\", \"entities.user_mentions\",\n",
    "     \"quoted_status_id\", \"quoted_status.user.id\", \"retweeted_status.user.id\", \"retweeted_status.id\"]]\n",
    "\n",
    "condensed = condensed.assign(is_politician=raw[\"user.screen_name\"].isin(politicians))\n",
    "condensed.loc[condensed['is_politician'] == True, 'author_party'] = 1\n",
    "condensed[\"author_party\"] = condensed[\"user.screen_name\"].apply(lambda x: acc_dict[x] if x in acc_dict.keys() else \"None\")\n",
    "#condensed.to_csv(\"condensed_10.csv\", index=False)"
   ]
  },
  {
   "cell_type": "markdown",
   "id": "50417402",
   "metadata": {},
   "source": [
    "### Enrich with sentiment"
   ]
  },
  {
   "cell_type": "code",
   "execution_count": null,
   "id": "054aff9a",
   "metadata": {},
   "outputs": [],
   "source": [
    "from germansentiment import SentimentModel"
   ]
  },
  {
   "cell_type": "code",
   "execution_count": null,
   "id": "7bc07900",
   "metadata": {},
   "outputs": [],
   "source": [
    "model = SentimentModel()"
   ]
  },
  {
   "cell_type": "code",
   "execution_count": null,
   "id": "3f067f1e",
   "metadata": {},
   "outputs": [],
   "source": [
    "condensed = pd.read_csv(\"condensed_10.csv\")"
   ]
  },
  {
   "cell_type": "code",
   "execution_count": null,
   "id": "3a4f2cf9",
   "metadata": {
    "tags": []
   },
   "outputs": [],
   "source": [
    "# crashes because of memory error\n",
    "#sentiment = pd.DataFrame({\"text\": condensed.text.drop_duplicates().head(100), \"sentiment\": model.predict_sentiment(condensed.text.drop_duplicates()).head(100)})"
   ]
  },
  {
   "cell_type": "code",
   "execution_count": null,
   "id": "62b17ff1",
   "metadata": {},
   "outputs": [],
   "source": [
    "text = condensed.text.drop_duplicates()\n",
    "num_chunks = 15\n",
    "chunk_size = len(text)//num_chunks\n",
    "textcontent = []\n",
    "sentiment = []\n",
    "for i in tqdm(range(num_chunks)):\n",
    "    textcontent += list(text.iloc[i*chunk_size:(i+1)*chunk_size])\n",
    "    sentiment += model.predict_sentiment(text.iloc[i*chunk_size:(i+1)*chunk_size])"
   ]
  },
  {
   "cell_type": "code",
   "execution_count": null,
   "id": "5eff5c1d",
   "metadata": {},
   "outputs": [],
   "source": [
    "df_sent = pd.DataFrame({\"text\": textcontent, \"sentiment\": sentiment})\n",
    "df_sent = condensed.merge(df_sent, on=\"text\")"
   ]
  },
  {
   "cell_type": "code",
   "execution_count": null,
   "id": "09663fe4",
   "metadata": {},
   "outputs": [],
   "source": [
    "df_sent.to_csv(\"sentiment_10.csv\", index=False)"
   ]
  },
  {
   "cell_type": "markdown",
   "id": "2531d5e6",
   "metadata": {},
   "source": [
    "### Enrich with Engagement"
   ]
  },
  {
   "cell_type": "code",
   "execution_count": null,
   "id": "7d6a8c2a",
   "metadata": {},
   "outputs": [],
   "source": [
    "replies = condensed.groupby(\"in_reply_to_status_id\")[[\"id\"]].count().rename(columns={\"id\":\"num_replies\"})\n",
    "quotes = condensed.groupby(\"quoted_status_id\")[[\"id\"]].count().rename(columns={\"id\":\"num_quotes\"})\n",
    "retweets = condensed.groupby(\"retweeted_status.id\")[[\"id\"]].count().rename(columns={\"id\":\"num_retweets\"})\n",
    "condensed = condensed\\\n",
    "    .merge(replies, how=\"left\", left_on=\"id\", right_index=True)\\\n",
    "    .merge(quotes, how=\"left\", left_on=\"id\", right_index=True)\\\n",
    "    .merge(retweets, how=\"left\", left_on=\"id\", right_index=True)\n",
    "condensed[[\"num_replies\", \"num_quotes\", \"num_retweets\"]] = condensed[[\"num_replies\", \"num_quotes\", \"num_retweets\"]].fillna(0)"
   ]
  },
  {
   "cell_type": "markdown",
   "id": "d5275658-2feb-44d7-b249-1b817f873ee4",
   "metadata": {},
   "source": [
    "### Enrich with Party Reference of Tweet"
   ]
  },
  {
   "cell_type": "code",
   "execution_count": null,
   "id": "ee797df1-4b50-4674-825d-775464078f36",
   "metadata": {},
   "outputs": [],
   "source": [
    "def get_refs_user(column):\n",
    "    helper=[]\n",
    "    for el in condensed[column].astype('float'):\n",
    "        if not np.isnan(el):\n",
    "            try:\n",
    "                helper.append(condensed.author_party[condensed['user.id']==el].iloc[0])\n",
    "            except:\n",
    "                helper.append(np.NaN)\n",
    "        else:\n",
    "            helper.append(np.NaN)\n",
    "    return helper"
   ]
  },
  {
   "cell_type": "code",
   "execution_count": null,
   "id": "85b7ca95-4b1d-423f-94b2-ad12a75d35fe",
   "metadata": {},
   "outputs": [],
   "source": [
    "condensed['party_ref'] = get_refs_user('in_reply_to_user_id')\n",
    "condensed['party_ref2'] = get_refs_user('quoted_status.user.id')\n",
    "condensed['party_ref3'] = get_refs_user('retweeted_status.user.id')"
   ]
  },
  {
   "cell_type": "code",
   "execution_count": null,
   "id": "76f95bc0-7aa7-41d3-bdd0-0e931a77cbb3",
   "metadata": {},
   "outputs": [],
   "source": [
    "parties=['Grüne','None','Linke','SPD','CDU/CSU','FDP','AfD']\n",
    "columns = ['party_ref2','party_ref3']\n",
    "for col in columns:\n",
    "    for par in parties:\n",
    "        condensed.loc[condensed[col] == par, 'party_ref'] = par\n",
    "df.drop(columns=['party_ref2','party_ref3'],inplace=True)"
   ]
  },
  {
   "cell_type": "code",
   "execution_count": null,
   "id": "2d0e47e2",
   "metadata": {},
   "outputs": [],
   "source": [
    "condensed.to_csv(\"condensed_10.csv\", index=False)"
   ]
  }
 ],
 "metadata": {
  "kernelspec": {
   "display_name": "Python 3 (ipykernel)",
   "language": "python",
   "name": "python3"
  },
  "language_info": {
   "codemirror_mode": {
    "name": "ipython",
    "version": 3
   },
   "file_extension": ".py",
   "mimetype": "text/x-python",
   "name": "python",
   "nbconvert_exporter": "python",
   "pygments_lexer": "ipython3",
   "version": "3.9.7"
  }
 },
 "nbformat": 4,
 "nbformat_minor": 5
}
